{
 "cells": [
  {
   "cell_type": "markdown",
   "metadata": {},
   "source": [
    "# Problem 2 - minmax algorithm\n",
    "Write a program in Julia that accepts an adversarial game as an input and returns the solution using the minimax algorithm with the alpha-beta pruning strategy. The game should support multiple players with multiple turns for each player."
   ]
  },
  {
   "cell_type": "code",
   "execution_count": 3,
   "metadata": {},
   "outputs": [
    {
     "data": {
      "text/plain": [
       "-1000"
      ]
     },
     "execution_count": 3,
     "metadata": {},
     "output_type": "execute_result"
    }
   ],
   "source": [
    "mx = 1000\n",
    "mn = -1000"
   ]
  },
  {
   "cell_type": "code",
   "execution_count": 2,
   "metadata": {},
   "outputs": [
    {
     "data": {
      "text/plain": [
       "minimax (generic function with 1 method)"
      ]
     },
     "execution_count": 2,
     "metadata": {},
     "output_type": "execute_result"
    }
   ],
   "source": [
    "function minimax(d, index,alpha,beta,maxPlayer,game)\n",
    "    if d == 1\n",
    "        return game[index]\n",
    "    end\n",
    "    if maxPlayer\n",
    "        best = mn\n",
    "        for i in 1:2\n",
    "            val = minimax(d - 1,i,alpha,beta,false,game)\n",
    "            best = best >= val ? best : val\n",
    "            alpha = alpha >= val ? alpha : val\n",
    "            if beta <= alpha\n",
    "                break\n",
    "            end\n",
    "        end\n",
    "        return best\n",
    "    else\n",
    "        best = mx\n",
    "        for i in 1:2\n",
    "            val = minimax(d - 1,i,alpha,beta,true,game)\n",
    "            best = best <= val ? best : val\n",
    "            beta = beta <= val ? beta : val\n",
    "            if beta <= alpha\n",
    "                break\n",
    "            end\n",
    "        end\n",
    "        return best\n",
    "    end\n",
    "end"
   ]
  },
  {
   "cell_type": "code",
   "execution_count": 5,
   "metadata": {},
   "outputs": [
    {
     "data": {
      "text/plain": [
       "3"
      ]
     },
     "execution_count": 5,
     "metadata": {},
     "output_type": "execute_result"
    }
   ],
   "source": [
    "#game = [3, 5, 6, 9, 1, 2, 0, -1]  \n",
    "game = [-1, 3, 5, 1, -6, -4, 0, 9]\n",
    "minimax(4,1,mn,mx,true,game)"
   ]
  }
 ],
 "metadata": {
  "kernelspec": {
   "display_name": "Julia 1.3.1",
   "language": "julia",
   "name": "julia-1.3"
  },
  "language_info": {
   "file_extension": ".jl",
   "mimetype": "application/julia",
   "name": "julia",
   "version": "1.3.1"
  }
 },
 "nbformat": 4,
 "nbformat_minor": 4
}
