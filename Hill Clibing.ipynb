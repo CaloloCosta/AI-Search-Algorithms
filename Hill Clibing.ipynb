{
 "cells": [
  {
   "cell_type": "markdown",
   "metadata": {},
   "source": [
    "# Hill Clibing Algorithm\n",
    "Write a program in Julia that uses the hill-climbing algorithm to solve the knapsack problem; a well-known problem in AI. It is generally defined as follows. Consider a set of items, each with a weight and a value, and a collection with a limit. The goal is to determine the number of each item to include in the collection so that the total weight is less or equal to the limit and the total value of the collection as large as possible. Your program will accept the following input:\n",
    "- number of items:\n",
    "- weight and value of each item;\n",
    "- limit of the collection. The program will return the combination of items that represents your solution. It will also - - display the different steps from the initial configuration to the solution."
   ]
  },
  {
   "cell_type": "code",
   "execution_count": 1,
   "metadata": {},
   "outputs": [],
   "source": [
    "mutable struct Item\n",
    "    weight::Int\n",
    "    value::Int\n",
    "end"
   ]
  },
  {
   "cell_type": "code",
   "execution_count": 35,
   "metadata": {},
   "outputs": [
    {
     "data": {
      "text/plain": [
       "\"16\""
      ]
     },
     "execution_count": 35,
     "metadata": {},
     "output_type": "execute_result"
    }
   ],
   "source": [
    "items = [Item(5,8),Item(6,7),Item(10,12),Item(4,6),Item(1,2),Item(1,3)]\n",
    "#items = [Item(4,6),Item(10,2),Item(2,5)]\n",
    "#items = [Item(12,4),Item(1,2),Item(4,10),Item(1,1),Item(2,2)]\n",
    "l = \"16\""
   ]
  },
  {
   "cell_type": "code",
   "execution_count": 3,
   "metadata": {},
   "outputs": [
    {
     "name": "stdout",
     "output_type": "stream",
     "text": [
      "Number of items: \n",
      "stdin> 3\n",
      "Weight: \n",
      "stdin> 4\n",
      "Value: \n",
      "stdin> 6\n",
      "\n",
      "\n",
      "\n",
      "Weight: \n",
      "stdin> 2\n",
      "Value: \n",
      "stdin> 5\n",
      "\n",
      "\n",
      "\n",
      "Weight: \n",
      "stdin> 10\n",
      "Value: \n",
      "stdin> 2\n",
      "\n",
      "\n",
      "\n",
      "\n",
      " Limit: \n",
      "stdin> 13\n"
     ]
    },
    {
     "data": {
      "text/plain": [
       "\"13\""
      ]
     },
     "execution_count": 3,
     "metadata": {},
     "output_type": "execute_result"
    }
   ],
   "source": [
    "## user input\n",
    "\n",
    "items = []\n",
    "println(\"Number of items: \")\n",
    "ni = readline()\n",
    "for i in 1:parse(Int,ni)\n",
    "    println(\"Weight: \")\n",
    "    w = readline()\n",
    "    println(\"Value: \")\n",
    "    v = readline()\n",
    "    push!(items,Item(parse(Int,w),parse(Int,v)))\n",
    "    println(\"\\n\\n\")\n",
    "end\n",
    "println(\"\\n Limit: \")\n",
    "l = readline()\n",
    "\n",
    "    "
   ]
  },
  {
   "cell_type": "code",
   "execution_count": 36,
   "metadata": {},
   "outputs": [
    {
     "data": {
      "text/plain": [
       "hill_clibing (generic function with 1 method)"
      ]
     },
     "execution_count": 36,
     "metadata": {},
     "output_type": "execute_result"
    }
   ],
   "source": [
    "function hill_clibing(items,limit)\n",
    "    w = h = 0\n",
    "    ch = cw = 0\n",
    "    solution = []\n",
    "    cs = []\n",
    "    for i in 1:size(items,1)\n",
    "        solution = [items[i]]\n",
    "        w = items[i].weight\n",
    "        h = items[i].value\n",
    "        for j in 1:size(items,1)\n",
    "            if(i != j)\n",
    "                if((w + items[j].weight) <= limit)\n",
    "                    h += items[j].value\n",
    "                    w += items[j].weight\n",
    "                    push!(solution,items[j])\n",
    "                end\n",
    "            end\n",
    "        end\n",
    "        \n",
    "        if (ch < h)\n",
    "            ch = h\n",
    "            cw = w\n",
    "            cs = solution\n",
    "        end\n",
    "        println(\"Iteration \", i ,\" - knapsack: \",solution,\" - Value: \",h,\" - Weight: \",w)\n",
    "    end\n",
    "    println(\"\\n\\n\\n\\n ---- FINAL RESULT -----\")\n",
    "    println(\"Maximum Value: \",ch,\"\\nMinimum Weight: \",cw)\n",
    "    println(\"Knapsack: \",cs)\n",
    "end"
   ]
  },
  {
   "cell_type": "code",
   "execution_count": 37,
   "metadata": {},
   "outputs": [
    {
     "name": "stdout",
     "output_type": "stream",
     "text": [
      "Iteration 1 - knapsack: Item[Item(5, 8), Item(6, 7), Item(4, 6), Item(1, 2)] - Value: 23 - Weight: 16\n",
      "Iteration 2 - knapsack: Item[Item(6, 7), Item(5, 8), Item(4, 6), Item(1, 2)] - Value: 23 - Weight: 16\n",
      "Iteration 3 - knapsack: Item[Item(10, 12), Item(5, 8), Item(1, 2)] - Value: 22 - Weight: 16\n",
      "Iteration 4 - knapsack: Item[Item(4, 6), Item(5, 8), Item(6, 7), Item(1, 2)] - Value: 23 - Weight: 16\n",
      "Iteration 5 - knapsack: Item[Item(1, 2), Item(5, 8), Item(6, 7), Item(4, 6)] - Value: 23 - Weight: 16\n",
      "Iteration 6 - knapsack: Item[Item(1, 3), Item(5, 8), Item(6, 7), Item(4, 6)] - Value: 24 - Weight: 16\n",
      "\n",
      "\n",
      "\n",
      "\n",
      " ---- FINAL RESULT -----\n",
      "Maximum Value: 24\n",
      "Minimum Weight: 16\n",
      "Knapsack: Item[Item(1, 3), Item(5, 8), Item(6, 7), Item(4, 6)]\n"
     ]
    }
   ],
   "source": [
    "hill_clibing(items,parse(Int,l))"
   ]
  }
 ],
 "metadata": {
  "kernelspec": {
   "display_name": "Julia 1.3.1",
   "language": "julia",
   "name": "julia-1.3"
  },
  "language_info": {
   "file_extension": ".jl",
   "mimetype": "application/julia",
   "name": "julia",
   "version": "1.3.1"
  }
 },
 "nbformat": 4,
 "nbformat_minor": 4
}
