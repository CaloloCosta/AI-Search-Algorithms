{
 "cells": [
  {
   "cell_type": "markdown",
   "metadata": {},
   "source": [
    "# Hill Clibing Algorithm\n",
    "Write a program in Julia that uses the hill-climbing algorithm to solve the knapsack problem; a well-known problem in AI. It is generally defined as follows. Consider a set of items, each with a weight and a value, and a collection with a limit. The goal is to determine the number of each item to include in the collection so that the total weight is less or equal to the limit and the total value of the collection as large as possible. Your program will accept the following input:\n",
    "- number of items:\n",
    "- weight and value of each item;\n",
    "- limit of the collection. The program will return the combination of items that represents your solution. It will also - - display the different steps from the initial configuration to the solution."
   ]
  },
  {
   "cell_type": "code",
   "execution_count": 2,
   "metadata": {},
   "outputs": [],
   "source": [
    "mutable struct Item\n",
    "    weight::Int\n",
    "    value::Int\n",
    "end"
   ]
  },
  {
   "cell_type": "code",
   "execution_count": 60,
   "metadata": {},
   "outputs": [
    {
     "data": {
      "text/plain": [
       "6-element Array{Item,1}:\n",
       " Item(5, 8)  \n",
       " Item(6, 7)  \n",
       " Item(10, 12)\n",
       " Item(4, 6)  \n",
       " Item(1, 2)  \n",
       " Item(1, 3)  "
      ]
     },
     "execution_count": 60,
     "metadata": {},
     "output_type": "execute_result"
    }
   ],
   "source": [
    "#items = [Item(5,8),Item(6,7),Item(10,12),Item(4,6),Item(1,2),Item(1,3)]\n",
    "#items = [Item(4,6),Item(10,2),Item(2,5)]"
   ]
  },
  {
   "cell_type": "code",
   "execution_count": 3,
   "metadata": {},
   "outputs": [
    {
     "name": "stdout",
     "output_type": "stream",
     "text": [
      "Number of items: \n",
      "stdin> 3\n",
      "Weight: \n",
      "stdin> 4\n",
      "Value: \n",
      "stdin> 6\n",
      "\n",
      "\n",
      "\n",
      "Weight: \n",
      "stdin> 2\n",
      "Value: \n",
      "stdin> 5\n",
      "\n",
      "\n",
      "\n",
      "Weight: \n",
      "stdin> 10\n",
      "Value: \n",
      "stdin> 2\n",
      "\n",
      "\n",
      "\n",
      "\n",
      " Limit: \n",
      "stdin> 13\n"
     ]
    },
    {
     "data": {
      "text/plain": [
       "\"13\""
      ]
     },
     "execution_count": 3,
     "metadata": {},
     "output_type": "execute_result"
    }
   ],
   "source": [
    "## user input\n",
    "items = []\n",
    "println(\"Number of items: \")\n",
    "ni = readline()\n",
    "for i in 1:parse(Int,ni)\n",
    "    println(\"Weight: \")\n",
    "    w = readline()\n",
    "    println(\"Value: \")\n",
    "    v = readline()\n",
    "    push!(items,Item(parse(Int,w),parse(Int,v)))\n",
    "    println(\"\\n\\n\")\n",
    "end\n",
    "println(\"\\n Limit: \")\n",
    "l = readline()\n",
    "    \n",
    "    "
   ]
  },
  {
   "cell_type": "code",
   "execution_count": 4,
   "metadata": {},
   "outputs": [
    {
     "data": {
      "text/plain": [
       "hill_clibing (generic function with 1 method)"
      ]
     },
     "execution_count": 4,
     "metadata": {},
     "output_type": "execute_result"
    }
   ],
   "source": [
    "function hill_clibing(items,limit)\n",
    "    w = h = 0\n",
    "    ch = cw = 0\n",
    "    solution = []\n",
    "    cs = []\n",
    "    for i in 1:size(items,1)\n",
    "        solution = [items[i]]\n",
    "        w = items[i].weight\n",
    "        h = items[i].value\n",
    "        for j in 1:size(items,1)\n",
    "            if(i != j)\n",
    "                if((w + items[j].weight) <= limit)\n",
    "                    h += items[j].value\n",
    "                    w += items[j].weight\n",
    "                    push!(solution,items[j])\n",
    "                end\n",
    "            end\n",
    "        end\n",
    "        if (ch < h)\n",
    "            ch = h\n",
    "            cw = w\n",
    "            cs = solution\n",
    "        end\n",
    "    end\n",
    "    println(\"Maximum Value: \",ch,\"\\n\\nMinimum Weight: \",cw)\n",
    "    println(\"\\nPath: \",solution)\n",
    "end"
   ]
  },
  {
   "cell_type": "code",
   "execution_count": 5,
   "metadata": {},
   "outputs": [
    {
     "name": "stdout",
     "output_type": "stream",
     "text": [
      "Maximum Value: 11\n",
      "\n",
      "Minimum Weight: 6\n",
      "\n",
      "Path: Item[Item(10, 2), Item(2, 5)]\n"
     ]
    }
   ],
   "source": [
    "hill_clibing(items,parse(Int,l))"
   ]
  }
 ],
 "metadata": {
  "kernelspec": {
   "display_name": "Julia 1.3.1",
   "language": "julia",
   "name": "julia-1.3"
  },
  "language_info": {
   "file_extension": ".jl",
   "mimetype": "application/julia",
   "name": "julia",
   "version": "1.3.1"
  }
 },
 "nbformat": 4,
 "nbformat_minor": 4
}
