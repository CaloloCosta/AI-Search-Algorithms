{
 "cells": [
  {
   "cell_type": "markdown",
   "metadata": {},
   "source": [
    "# Problem 2 - minmax algorithm\n",
    "Write a program in Julia that accepts an adversarial game as an input and returns the solution using the minimax algorithm with the alpha-beta pruning strategy. The game should support multiple players with multiple turns for each player."
   ]
  },
  {
   "cell_type": "code",
   "execution_count": 18,
   "metadata": {},
   "outputs": [
    {
     "data": {
      "text/plain": [
       "-1000"
      ]
     },
     "execution_count": 18,
     "metadata": {},
     "output_type": "execute_result"
    }
   ],
   "source": [
    "mx = 1000\n",
    "mn = -1000"
   ]
  },
  {
   "cell_type": "code",
   "execution_count": 89,
   "metadata": {},
   "outputs": [
    {
     "data": {
      "text/plain": [
       "minimax (generic function with 1 method)"
      ]
     },
     "execution_count": 89,
     "metadata": {},
     "output_type": "execute_result"
    }
   ],
   "source": [
    "function minimax(d, index,maxplayer,alpha,beta,game)\n",
    "    if(d == 3)\n",
    "        return game[index]\n",
    "    end\n",
    "    if(maxplayer)\n",
    "        best = mn\n",
    "        for i in 1:2\n",
    "            if(index  == 1)\n",
    "                val = minimax(d + 1, index  + i,false,alpha,beta,game)\n",
    "            else\n",
    "                val = minimax(d + 1, index + 1 + i,false,alpha,beta,game)\n",
    "            end\n",
    "            best = (best > val) ? best : val\n",
    "            alpha = (alpha > best) ? alpha : best\n",
    "            if (beta <= alpha)\n",
    "                break\n",
    "            end\n",
    "        end\n",
    "        return best\n",
    "    else\n",
    "        best = mx\n",
    "        for i in 1:2\n",
    "            if (index == 1)\n",
    "                val = minimax(d + 1, index + i, true, alpha,beta,game)\n",
    "            else\n",
    "                val = minimax(d + 1, index + 1 + i, true, alpha,beta,game)\n",
    "            end\n",
    "            best = (best < val) ? best : val\n",
    "            beta = (beta < best) ? beta : best\n",
    "            if (beta <= alpha)\n",
    "                break\n",
    "            end\n",
    "        end\n",
    "        return best\n",
    "    end\n",
    "    \n",
    "end"
   ]
  },
  {
   "cell_type": "code",
   "execution_count": 99,
   "metadata": {},
   "outputs": [
    {
     "data": {
      "text/plain": [
       "0"
      ]
     },
     "execution_count": 99,
     "metadata": {},
     "output_type": "execute_result"
    }
   ],
   "source": [
    "game = [3, 5, 6, 9, 1, 2, 0, -1]  \n",
    "#minimax(d, index,maxplayer,alpha,beta,game)\n",
    "minimax(0,1,true,mn,mx,game)"
   ]
  },
  {
   "cell_type": "code",
   "execution_count": 40,
   "metadata": {},
   "outputs": [
    {
     "name": "stdout",
     "output_type": "stream",
     "text": [
      "1\n",
      "2\n"
     ]
    }
   ],
   "source": [
    "for i in 1:2\n",
    "    println(i)\n",
    "end"
   ]
  }
 ],
 "metadata": {
  "kernelspec": {
   "display_name": "Julia 1.3.1",
   "language": "julia",
   "name": "julia-1.3"
  },
  "language_info": {
   "file_extension": ".jl",
   "mimetype": "application/julia",
   "name": "julia",
   "version": "1.3.1"
  }
 },
 "nbformat": 4,
 "nbformat_minor": 4
}
